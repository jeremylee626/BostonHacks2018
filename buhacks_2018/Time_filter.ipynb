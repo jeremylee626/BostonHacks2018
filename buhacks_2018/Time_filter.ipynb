{
 "cells": [
  {
   "cell_type": "code",
   "execution_count": null,
   "metadata": {},
   "outputs": [],
   "source": [
    "data = pd.read_csv(\"Messages.csv\")\n",
    "data = data.dropna(axis=0)\n",
    "data = data.reset_index(drop=True)\n",
    "data['group']=[-1]*len(data)\n",
    "data['Date_Received'] = pd.to_datetime(data['Date_Received'])\n",
    "data = data[data['Date_Received'] >= time_15] \n",
    "data = data[data['Date_Received'] <= current_time]\n",
    "data"
   ]
  }
 ],
 "metadata": {
  "kernelspec": {
   "display_name": "Python 3",
   "language": "python",
   "name": "python3"
  },
  "language_info": {
   "codemirror_mode": {
    "name": "ipython",
    "version": 3
   },
   "file_extension": ".py",
   "mimetype": "text/x-python",
   "name": "python",
   "nbconvert_exporter": "python",
   "pygments_lexer": "ipython3",
   "version": "3.5.5"
  }
 },
 "nbformat": 4,
 "nbformat_minor": 2
}
